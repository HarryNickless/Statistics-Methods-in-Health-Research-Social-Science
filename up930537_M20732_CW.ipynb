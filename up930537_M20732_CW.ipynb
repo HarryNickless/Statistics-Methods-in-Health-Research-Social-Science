{
  "nbformat": 4,
  "nbformat_minor": 0,
  "metadata": {
    "colab": {
      "name": "up930537 M20732 CW",
      "provenance": [],
      "collapsed_sections": []
    },
    "kernelspec": {
      "display_name": "R",
      "name": "ir"
    }
  },
  "cells": [
    {
      "cell_type": "code",
      "metadata": {
        "id": "FNf-v_bwa4oO"
      },
      "source": [
        "library(tidyverse)"
      ],
      "execution_count": 31,
      "outputs": []
    },
    {
      "cell_type": "markdown",
      "metadata": {
        "id": "KGJ02g6PHXDx"
      },
      "source": [
        "## Question B"
      ]
    },
    {
      "cell_type": "markdown",
      "metadata": {
        "id": "cp1DraUMIXp8"
      },
      "source": [
        "## 1."
      ]
    },
    {
      "cell_type": "code",
      "metadata": {
        "id": "OG0QMKfaQEku",
        "colab": {
          "base_uri": "https://localhost:8080/",
          "height": 286
        },
        "outputId": "fd5dda7b-77d3-42e0-f131-38a31964fa5e"
      },
      "source": [
        "#Importing the data\n",
        "library(haven)\n",
        "Rehab = read_sav(\"Rehabilitaion.sav\")\n",
        "head(Rehab)"
      ],
      "execution_count": 32,
      "outputs": [
        {
          "output_type": "display_data",
          "data": {
            "text/plain": [
              "  ID AGE IVHX CENTRE THERAPY GENDER RESPONSE\n",
              "1 1  39  1    1      1       1      0       \n",
              "2 2  33  2    1      1       1      0       \n",
              "3 3  33  1    1      1       1      0       \n",
              "4 4  32  1    1      2       1      0       \n",
              "5 5  24  3    1      1       2      1       \n",
              "6 6  30  1    1      1       1      0       "
            ],
            "text/latex": "A tibble: 6 × 7\n\\begin{tabular}{lllllll}\n ID & AGE & IVHX & CENTRE & THERAPY & GENDER & RESPONSE\\\\\n <dbl> & <dbl> & <dbl+lbl> & <dbl+lbl> & <dbl+lbl> & <dbl+lbl> & <dbl+lbl>\\\\\n\\hline\n\t 1 & 39 & 1 & 1 & 1 & 1 & 0\\\\\n\t 2 & 33 & 2 & 1 & 1 & 1 & 0\\\\\n\t 3 & 33 & 1 & 1 & 1 & 1 & 0\\\\\n\t 4 & 32 & 1 & 1 & 2 & 1 & 0\\\\\n\t 5 & 24 & 3 & 1 & 1 & 2 & 1\\\\\n\t 6 & 30 & 1 & 1 & 1 & 1 & 0\\\\\n\\end{tabular}\n",
            "text/markdown": "\nA tibble: 6 × 7\n\n| ID &lt;dbl&gt; | AGE &lt;dbl&gt; | IVHX &lt;dbl+lbl&gt; | CENTRE &lt;dbl+lbl&gt; | THERAPY &lt;dbl+lbl&gt; | GENDER &lt;dbl+lbl&gt; | RESPONSE &lt;dbl+lbl&gt; |\n|---|---|---|---|---|---|---|\n| 1 | 39 | 1 | 1 | 1 | 1 | 0 |\n| 2 | 33 | 2 | 1 | 1 | 1 | 0 |\n| 3 | 33 | 1 | 1 | 1 | 1 | 0 |\n| 4 | 32 | 1 | 1 | 2 | 1 | 0 |\n| 5 | 24 | 3 | 1 | 1 | 2 | 1 |\n| 6 | 30 | 1 | 1 | 1 | 1 | 0 |\n\n",
            "text/html": [
              "<table class=\"dataframe\">\n",
              "<caption>A tibble: 6 × 7</caption>\n",
              "<thead>\n",
              "\t<tr><th scope=col>ID</th><th scope=col>AGE</th><th scope=col>IVHX</th><th scope=col>CENTRE</th><th scope=col>THERAPY</th><th scope=col>GENDER</th><th scope=col>RESPONSE</th></tr>\n",
              "\t<tr><th scope=col>&lt;dbl&gt;</th><th scope=col>&lt;dbl&gt;</th><th scope=col>&lt;dbl+lbl&gt;</th><th scope=col>&lt;dbl+lbl&gt;</th><th scope=col>&lt;dbl+lbl&gt;</th><th scope=col>&lt;dbl+lbl&gt;</th><th scope=col>&lt;dbl+lbl&gt;</th></tr>\n",
              "</thead>\n",
              "<tbody>\n",
              "\t<tr><td>1</td><td>39</td><td>1</td><td>1</td><td>1</td><td>1</td><td>0</td></tr>\n",
              "\t<tr><td>2</td><td>33</td><td>2</td><td>1</td><td>1</td><td>1</td><td>0</td></tr>\n",
              "\t<tr><td>3</td><td>33</td><td>1</td><td>1</td><td>1</td><td>1</td><td>0</td></tr>\n",
              "\t<tr><td>4</td><td>32</td><td>1</td><td>1</td><td>2</td><td>1</td><td>0</td></tr>\n",
              "\t<tr><td>5</td><td>24</td><td>3</td><td>1</td><td>1</td><td>2</td><td>1</td></tr>\n",
              "\t<tr><td>6</td><td>30</td><td>1</td><td>1</td><td>1</td><td>1</td><td>0</td></tr>\n",
              "</tbody>\n",
              "</table>\n"
            ]
          },
          "metadata": {}
        }
      ]
    },
    {
      "cell_type": "code",
      "metadata": {
        "id": "9GS6E0T0Ru9g",
        "colab": {
          "base_uri": "https://localhost:8080/",
          "height": 52
        },
        "outputId": "53c71a04-e00c-494d-ead2-3b297aadb18b"
      },
      "source": [
        "#Declaring the variables that are factors\n",
        "Rehab$IVHX <- factor(Rehab$IVHX)\n",
        "levels(Rehab$IVHX) \n",
        "\n",
        "Rehab$IVHX=relevel(Rehab$IVHX,ref=\"3\");\n",
        "levels(Rehab$IVHX) # (3 = Non User) is reference"
      ],
      "execution_count": 33,
      "outputs": [
        {
          "output_type": "display_data",
          "data": {
            "text/plain": [
              "[1] \"1\" \"2\" \"3\""
            ],
            "text/latex": "\\begin{enumerate*}\n\\item '1'\n\\item '2'\n\\item '3'\n\\end{enumerate*}\n",
            "text/markdown": "1. '1'\n2. '2'\n3. '3'\n\n\n",
            "text/html": [
              "<style>\n",
              ".list-inline {list-style: none; margin:0; padding: 0}\n",
              ".list-inline>li {display: inline-block}\n",
              ".list-inline>li:not(:last-child)::after {content: \"\\00b7\"; padding: 0 .5ex}\n",
              "</style>\n",
              "<ol class=list-inline><li>'1'</li><li>'2'</li><li>'3'</li></ol>\n"
            ]
          },
          "metadata": {}
        },
        {
          "output_type": "display_data",
          "data": {
            "text/plain": [
              "[1] \"3\" \"1\" \"2\""
            ],
            "text/latex": "\\begin{enumerate*}\n\\item '3'\n\\item '1'\n\\item '2'\n\\end{enumerate*}\n",
            "text/markdown": "1. '3'\n2. '1'\n3. '2'\n\n\n",
            "text/html": [
              "<style>\n",
              ".list-inline {list-style: none; margin:0; padding: 0}\n",
              ".list-inline>li {display: inline-block}\n",
              ".list-inline>li:not(:last-child)::after {content: \"\\00b7\"; padding: 0 .5ex}\n",
              "</style>\n",
              "<ol class=list-inline><li>'3'</li><li>'1'</li><li>'2'</li></ol>\n"
            ]
          },
          "metadata": {}
        }
      ]
    },
    {
      "cell_type": "code",
      "metadata": {
        "id": "bE_3kp1BRvn-",
        "colab": {
          "base_uri": "https://localhost:8080/",
          "height": 34
        },
        "outputId": "ef849f90-1453-41a6-de35-e974de70554b"
      },
      "source": [
        "Rehab$CENTRE <- factor(Rehab$CENTRE)\n",
        "levels(Rehab$CENTRE) # (1 = Metropolitan) is reference"
      ],
      "execution_count": 34,
      "outputs": [
        {
          "output_type": "display_data",
          "data": {
            "text/plain": [
              "[1] \"1\" \"2\""
            ],
            "text/latex": "\\begin{enumerate*}\n\\item '1'\n\\item '2'\n\\end{enumerate*}\n",
            "text/markdown": "1. '1'\n2. '2'\n\n\n",
            "text/html": [
              "<style>\n",
              ".list-inline {list-style: none; margin:0; padding: 0}\n",
              ".list-inline>li {display: inline-block}\n",
              ".list-inline>li:not(:last-child)::after {content: \"\\00b7\"; padding: 0 .5ex}\n",
              "</style>\n",
              "<ol class=list-inline><li>'1'</li><li>'2'</li></ol>\n"
            ]
          },
          "metadata": {}
        }
      ]
    },
    {
      "cell_type": "code",
      "metadata": {
        "id": "fZpVUo4RRwQT",
        "colab": {
          "base_uri": "https://localhost:8080/",
          "height": 52
        },
        "outputId": "6e55ff6c-92eb-4933-f815-4d9f6ad069a4"
      },
      "source": [
        "Rehab$THERAPY <- factor(Rehab$THERAPY)\n",
        "levels(Rehab$THERAPY)\n",
        " \n",
        "Rehab$THERAPY=relevel(Rehab$THERAPY,ref=\"2\"); \n",
        "\n",
        "levels(Rehab$THERAPY) # (2 = Standard) is reference"
      ],
      "execution_count": 35,
      "outputs": [
        {
          "output_type": "display_data",
          "data": {
            "text/plain": [
              "[1] \"1\" \"2\""
            ],
            "text/latex": "\\begin{enumerate*}\n\\item '1'\n\\item '2'\n\\end{enumerate*}\n",
            "text/markdown": "1. '1'\n2. '2'\n\n\n",
            "text/html": [
              "<style>\n",
              ".list-inline {list-style: none; margin:0; padding: 0}\n",
              ".list-inline>li {display: inline-block}\n",
              ".list-inline>li:not(:last-child)::after {content: \"\\00b7\"; padding: 0 .5ex}\n",
              "</style>\n",
              "<ol class=list-inline><li>'1'</li><li>'2'</li></ol>\n"
            ]
          },
          "metadata": {}
        },
        {
          "output_type": "display_data",
          "data": {
            "text/plain": [
              "[1] \"2\" \"1\""
            ],
            "text/latex": "\\begin{enumerate*}\n\\item '2'\n\\item '1'\n\\end{enumerate*}\n",
            "text/markdown": "1. '2'\n2. '1'\n\n\n",
            "text/html": [
              "<style>\n",
              ".list-inline {list-style: none; margin:0; padding: 0}\n",
              ".list-inline>li {display: inline-block}\n",
              ".list-inline>li:not(:last-child)::after {content: \"\\00b7\"; padding: 0 .5ex}\n",
              "</style>\n",
              "<ol class=list-inline><li>'2'</li><li>'1'</li></ol>\n"
            ]
          },
          "metadata": {}
        }
      ]
    },
    {
      "cell_type": "code",
      "metadata": {
        "id": "oWHuWgQASBwF",
        "colab": {
          "base_uri": "https://localhost:8080/",
          "height": 52
        },
        "outputId": "519be0a1-920b-4dae-d199-e290be45aff3"
      },
      "source": [
        "Rehab$Genderf = as.factor(Rehab$GENDER)\n",
        "levels(Rehab$Genderf)\n",
        "\n",
        "Rehab$Genderf=relevel(Rehab$Genderf,ref=\"2\"); \n",
        "levels(Rehab$Genderf) # (2 = Female) is reference"
      ],
      "execution_count": 36,
      "outputs": [
        {
          "output_type": "display_data",
          "data": {
            "text/plain": [
              "[1] \"1\" \"2\""
            ],
            "text/latex": "\\begin{enumerate*}\n\\item '1'\n\\item '2'\n\\end{enumerate*}\n",
            "text/markdown": "1. '1'\n2. '2'\n\n\n",
            "text/html": [
              "<style>\n",
              ".list-inline {list-style: none; margin:0; padding: 0}\n",
              ".list-inline>li {display: inline-block}\n",
              ".list-inline>li:not(:last-child)::after {content: \"\\00b7\"; padding: 0 .5ex}\n",
              "</style>\n",
              "<ol class=list-inline><li>'1'</li><li>'2'</li></ol>\n"
            ]
          },
          "metadata": {}
        },
        {
          "output_type": "display_data",
          "data": {
            "text/plain": [
              "[1] \"2\" \"1\""
            ],
            "text/latex": "\\begin{enumerate*}\n\\item '2'\n\\item '1'\n\\end{enumerate*}\n",
            "text/markdown": "1. '2'\n2. '1'\n\n\n",
            "text/html": [
              "<style>\n",
              ".list-inline {list-style: none; margin:0; padding: 0}\n",
              ".list-inline>li {display: inline-block}\n",
              ".list-inline>li:not(:last-child)::after {content: \"\\00b7\"; padding: 0 .5ex}\n",
              "</style>\n",
              "<ol class=list-inline><li>'2'</li><li>'1'</li></ol>\n"
            ]
          },
          "metadata": {}
        }
      ]
    },
    {
      "cell_type": "markdown",
      "metadata": {
        "id": "T0eYq1FwHmzm"
      },
      "source": [
        "## 2."
      ]
    },
    {
      "cell_type": "code",
      "metadata": {
        "id": "ojh8Naov63bE",
        "colab": {
          "base_uri": "https://localhost:8080/",
          "height": 173
        },
        "outputId": "0282f5c2-556c-4a27-e044-71904909e378"
      },
      "source": [
        "##Chi-square test for association\n",
        "#Convert data to a table\n",
        "Rehabtable = table(Rehab$THERAPY,Rehab$RESPONSE)\n",
        "Rehabtable #Show table\n",
        "chisq.test(Rehabtable,correct=FALSE) #Chi-square test"
      ],
      "execution_count": 37,
      "outputs": [
        {
          "output_type": "display_data",
          "data": {
            "text/plain": [
              "   \n",
              "      0   1\n",
              "  2 187  62\n",
              "  1 166  85"
            ]
          },
          "metadata": {}
        },
        {
          "output_type": "display_data",
          "data": {
            "text/plain": [
              "\n",
              "\tPearson's Chi-squared test\n",
              "\n",
              "data:  Rehabtable\n",
              "X-squared = 4.84, df = 1, p-value = 0.02781\n"
            ]
          },
          "metadata": {}
        }
      ]
    },
    {
      "cell_type": "markdown",
      "metadata": {
        "id": "B9mc-dEJG3N4"
      },
      "source": [
        "The p-value is approximately 0.02781 which is less than 0.05, so there is sufficient evidence to reject the null hypothesis of no association. \n",
        "\n",
        "There is significant evidence of an association between the outcome and participating in the education program. "
      ]
    },
    {
      "cell_type": "code",
      "metadata": {
        "id": "Pzfe8fgN-8Sd",
        "colab": {
          "base_uri": "https://localhost:8080/",
          "height": 34
        },
        "outputId": "b8614fb0-b352-4cb5-9a48-0af8c9950ed6"
      },
      "source": [
        "#Odds ratio\n",
        "(85*187)/(166*62)"
      ],
      "execution_count": 38,
      "outputs": [
        {
          "output_type": "display_data",
          "data": {
            "text/plain": [
              "[1] 1.544403"
            ],
            "text/latex": "1.54440342013214",
            "text/markdown": "1.54440342013214",
            "text/html": [
              "1.54440342013214"
            ]
          },
          "metadata": {}
        }
      ]
    },
    {
      "cell_type": "markdown",
      "metadata": {
        "id": "3Ux4JjMxHcPs"
      },
      "source": [
        "OR = 1.544, the likelihood of getting no further convictions in the following two years is approximately 1.544 times higher for criminals that have participated in the education program, compared to those that have had the standard therapy."
      ]
    },
    {
      "cell_type": "markdown",
      "metadata": {
        "id": "1wTQ35TkIDT1"
      },
      "source": [
        "## 3."
      ]
    },
    {
      "cell_type": "code",
      "metadata": {
        "id": "mitGbRkJIgZi",
        "colab": {
          "base_uri": "https://localhost:8080/",
          "height": 278
        },
        "outputId": "abbb1997-aa66-4ee5-ebbe-20139ab2f3f0"
      },
      "source": [
        "#Stratified Analysis, gender as stratification variable\n",
        "Rehabtable = xtabs( ~ THERAPY + RESPONSE + GENDER, data=Rehab)\n",
        "Rehabtable #show table\n",
        "\n",
        "(58*151)/(122*42) #OR for Males\n",
        "(27*36)/(44*20)   #OR for Females\n"
      ],
      "execution_count": 39,
      "outputs": [
        {
          "output_type": "display_data",
          "data": {
            "text/plain": [
              ", , GENDER = 1\n",
              "\n",
              "       RESPONSE\n",
              "THERAPY   0   1\n",
              "      2 151  42\n",
              "      1 122  58\n",
              "\n",
              ", , GENDER = 2\n",
              "\n",
              "       RESPONSE\n",
              "THERAPY   0   1\n",
              "      2  36  20\n",
              "      1  44  27\n"
            ]
          },
          "metadata": {}
        },
        {
          "output_type": "display_data",
          "data": {
            "text/plain": [
              "[1] 1.709212"
            ],
            "text/latex": "1.70921155347385",
            "text/markdown": "1.70921155347385",
            "text/html": [
              "1.70921155347385"
            ]
          },
          "metadata": {}
        },
        {
          "output_type": "display_data",
          "data": {
            "text/plain": [
              "[1] 1.104545"
            ],
            "text/latex": "1.10454545454545",
            "text/markdown": "1.10454545454545",
            "text/html": [
              "1.10454545454545"
            ]
          },
          "metadata": {}
        }
      ]
    },
    {
      "cell_type": "markdown",
      "metadata": {
        "id": "BTIDXDqzZA12"
      },
      "source": [
        "OR 1 = 1.709\n",
        "\n",
        "OR 2 = 1.105\n",
        "\n",
        "The Odds ratios for males and females are both greater than 1.0, which indicates that for both genders, the likelihood of not getting further convictions is positively associated with participation in the education program."
      ]
    },
    {
      "cell_type": "code",
      "metadata": {
        "id": "rUEV7YL5G7kK",
        "colab": {
          "base_uri": "https://localhost:8080/"
        },
        "outputId": "e932b568-bd3a-4e69-cbe7-8c69711c86fa"
      },
      "source": [
        "install.packages(\"vcd\") ##Package needed for woolf test"
      ],
      "execution_count": 40,
      "outputs": [
        {
          "output_type": "stream",
          "name": "stderr",
          "text": [
            "Installing package into ‘/usr/local/lib/R/site-library’\n",
            "(as ‘lib’ is unspecified)\n",
            "\n"
          ]
        }
      ]
    },
    {
      "cell_type": "code",
      "metadata": {
        "id": "VuXhRmt3XDko",
        "colab": {
          "base_uri": "https://localhost:8080/",
          "height": 104
        },
        "outputId": "75d6af96-636d-45f5-bb94-3eddf5384f90"
      },
      "source": [
        "library(vcd)\n",
        "woolf_test(Rehabtable) #Test of homogeneity"
      ],
      "execution_count": 41,
      "outputs": [
        {
          "output_type": "display_data",
          "data": {
            "text/plain": [
              "\n",
              "\tWoolf-test on Homogeneity of Odds Ratios (no 3-Way assoc.)\n",
              "\n",
              "data:  Rehabtable\n",
              "X-squared = 0.98555, df = 1, p-value = 0.3208\n"
            ]
          },
          "metadata": {}
        }
      ]
    },
    {
      "cell_type": "markdown",
      "metadata": {
        "id": "hF7tLYOgYG_C"
      },
      "source": [
        "The test of homogeneity gives a p-value of approximately 0.3208, which is not significant. This suggests that the outcome does not vary significantly by gender."
      ]
    },
    {
      "cell_type": "code",
      "metadata": {
        "id": "U9g5cCpyYs7_",
        "colab": {
          "base_uri": "https://localhost:8080/",
          "height": 208
        },
        "outputId": "c23c126f-7dd7-4c87-bbad-ad2e688182e7"
      },
      "source": [
        "#Obtain OR after adjusting for gender\n",
        "mantelhaen.test(Rehabtable)"
      ],
      "execution_count": 42,
      "outputs": [
        {
          "output_type": "display_data",
          "data": {
            "text/plain": [
              "\n",
              "\tMantel-Haenszel chi-squared test with continuity correction\n",
              "\n",
              "data:  Rehabtable\n",
              "Mantel-Haenszel X-squared = 3.8683, df = 1, p-value = 0.04921\n",
              "alternative hypothesis: true common odds ratio is not equal to 1\n",
              "95 percent confidence interval:\n",
              " 1.020061 2.224837\n",
              "sample estimates:\n",
              "common odds ratio \n",
              "         1.506476 \n"
            ]
          },
          "metadata": {}
        }
      ]
    },
    {
      "cell_type": "markdown",
      "metadata": {
        "id": "xQ1YpFFAc5ie"
      },
      "source": [
        "OR = 1.506\n",
        "\n",
        "95% CI = (1.020, 2.225)\n",
        "\n",
        "The pooled OR, after adjusting for gender, of approximately 1.506 indicates that criminals that participate in the education programme are 1.506 times more likely to have no further convictions after two years compared to those that do not participate. \n",
        "\n",
        "\n",
        "The Confidence Interval does not include 1.0, which further supports this conclusion, and suggests that participating in the programme increases the likelihood of no further convictions after two years by between 1.020 and 2.225 times."
      ]
    },
    {
      "cell_type": "code",
      "source": [
        "#Percentage difference between crude and adjusted OR, using values from output\n",
        " ((1.54440342013214-1.506476)/1.54440342013214)*100"
      ],
      "metadata": {
        "colab": {
          "base_uri": "https://localhost:8080/",
          "height": 34
        },
        "id": "d01VoyupOuVW",
        "outputId": "e23ad595-61e1-4d56-d50c-da711667c2b2"
      },
      "execution_count": 43,
      "outputs": [
        {
          "output_type": "display_data",
          "data": {
            "text/plain": [
              "[1] 2.455797"
            ],
            "text/latex": "2.45579747090271",
            "text/markdown": "2.45579747090271",
            "text/html": [
              "2.45579747090271"
            ]
          },
          "metadata": {}
        }
      ]
    },
    {
      "cell_type": "markdown",
      "source": [
        "The difference between crude (OR = 1.544) and adjusted (OR = 1.506) is approximately 2.456%, which is less than 10%. This indicates that there is no evidence of confounding in this study."
      ],
      "metadata": {
        "id": "Tg_O_BJZPGZP"
      }
    },
    {
      "cell_type": "markdown",
      "metadata": {
        "id": "OWaF41QbIoSO"
      },
      "source": [
        "## 4."
      ]
    },
    {
      "cell_type": "code",
      "metadata": {
        "id": "3b9GJ_92giPJ",
        "colab": {
          "base_uri": "https://localhost:8080/",
          "height": 503
        },
        "outputId": "22116b25-7208-4fd4-fdca-fc8fd47ab389"
      },
      "source": [
        "#Logistic regression model\n",
        "model.full = glm(RESPONSE ~ AGE + IVHX + CENTRE + THERAPY + Genderf, data=Rehab, family = binomial(link=\"logit\"))\n",
        "summary(model.full)"
      ],
      "execution_count": 44,
      "outputs": [
        {
          "output_type": "display_data",
          "data": {
            "text/plain": [
              "\n",
              "Call:\n",
              "glm(formula = RESPONSE ~ AGE + IVHX + CENTRE + THERAPY + Genderf, \n",
              "    family = binomial(link = \"logit\"), data = Rehab)\n",
              "\n",
              "Deviance Residuals: \n",
              "    Min       1Q   Median       3Q      Max  \n",
              "-1.7392  -0.7955  -0.6176   1.0702   2.2339  \n",
              "\n",
              "Coefficients:\n",
              "            Estimate Std. Error z value Pr(>|z|)    \n",
              "(Intercept) -2.29324    0.61578  -3.724 0.000196 ***\n",
              "AGE          0.05237    0.01836   2.852 0.004348 ** \n",
              "IVHX1       -0.89037    0.26046  -3.419 0.000630 ***\n",
              "IVHX2       -0.64802    0.30431  -2.129 0.033215 *  \n",
              "CENTRE2      1.19327    0.24900   4.792 1.65e-06 ***\n",
              "THERAPY1     0.42584    0.21011   2.027 0.042688 *  \n",
              "Genderf1    -0.42994    0.23754  -1.810 0.070300 .  \n",
              "---\n",
              "Signif. codes:  0 ‘***’ 0.001 ‘**’ 0.01 ‘*’ 0.05 ‘.’ 0.1 ‘ ’ 1\n",
              "\n",
              "(Dispersion parameter for binomial family taken to be 1)\n",
              "\n",
              "    Null deviance: 605.69  on 499  degrees of freedom\n",
              "Residual deviance: 552.02  on 493  degrees of freedom\n",
              "AIC: 566.02\n",
              "\n",
              "Number of Fisher Scoring iterations: 4\n"
            ]
          },
          "metadata": {}
        }
      ]
    },
    {
      "cell_type": "markdown",
      "metadata": {
        "id": "k7RTdWwAORKo"
      },
      "source": [
        "The reference groups are 3 = Non User, 1 = Metropolitan, 2 = Standard, 2 = Female for \"IVHX\", \"CENTRE\", \"THERAPY\" and \"GENDER\" respectively.\n",
        "\n",
        "\n",
        "All variables except \"GENDER\" are significant predictors of response, since their p-values are less than 0.05. The most significant predictor is \"Centre\" as it has the smallest p-value. This suggests that criminals from the metropolitan area are the best predictor of outcome.\n",
        "\n",
        "This is followed by \"IVHX1\", \"AGE\", \"IVHX2\" and \"THERAPY1\".\n",
        "\n",
        "Current drug users are more signifcant predictors of outcome compared to ex drug users because the p-value is lower.\n",
        "\n",
        "The fitted model is:\n",
        "\n",
        "$$\\ln(Odds) = -2.293 + 0.052 * AGE - 0.890 * IVHX(1) -0.648 * IVHX(2) + 1.193 * CENTRE(2) + 0.426 * THERAPY(1)$$\n",
        "\n",
        "\n",
        "\n",
        "\n",
        "The **fitted model** can then be written as:\n",
        "\n",
        "\n",
        "\n",
        "ln(Odds) = -2.293 + 0.052(Age) - 0.890(Current User) - 0.648(Ex User) + 1.193(Urban Centre) + 0.426(Test Therapy)"
      ]
    },
    {
      "cell_type": "markdown",
      "metadata": {
        "id": "3b7SlkT2OP8M"
      },
      "source": [
        ""
      ]
    },
    {
      "cell_type": "code",
      "metadata": {
        "id": "QTdKj3HAIc7G",
        "colab": {
          "base_uri": "https://localhost:8080/"
        },
        "outputId": "ae16783b-c2bb-45c1-faab-22a34598344d"
      },
      "source": [
        "install.packages(\"ResourceSelection\") #package needed to test goodness of fit\n",
        "library(ResourceSelection)"
      ],
      "execution_count": 45,
      "outputs": [
        {
          "output_type": "stream",
          "name": "stderr",
          "text": [
            "Installing package into ‘/usr/local/lib/R/site-library’\n",
            "(as ‘lib’ is unspecified)\n",
            "\n"
          ]
        }
      ]
    },
    {
      "cell_type": "code",
      "metadata": {
        "id": "h4NJGt0ejONI",
        "colab": {
          "base_uri": "https://localhost:8080/",
          "height": 104
        },
        "outputId": "6ef6c926-7f3b-4c6a-e6e7-8291a49d2a01"
      },
      "source": [
        "#Goodness of fit test, divided into 10 subgroups\n",
        "hl<-hoslem.test(model.full$y, fitted(model.full), g=10)\n",
        "hl"
      ],
      "execution_count": 46,
      "outputs": [
        {
          "output_type": "display_data",
          "data": {
            "text/plain": [
              "\n",
              "\tHosmer and Lemeshow goodness of fit (GOF) test\n",
              "\n",
              "data:  model.full$y, fitted(model.full)\n",
              "X-squared = 10.431, df = 8, p-value = 0.2361\n"
            ]
          },
          "metadata": {}
        }
      ]
    },
    {
      "cell_type": "markdown",
      "metadata": {
        "id": "7NDgRkpgVUlU"
      },
      "source": [
        "Using the Lemeshow goodness of fit test, the p-value is approximately 0.236, which is not significant. This indicates that there is no evidence that the model gives a poor fit."
      ]
    },
    {
      "cell_type": "code",
      "metadata": {
        "id": "9m-_OCyNKGuy",
        "colab": {
          "base_uri": "https://localhost:8080/",
          "height": 355
        },
        "outputId": "5b829f08-cb45-44ec-dcbe-f680f4fe74f8"
      },
      "source": [
        "#Finding the Odds Ratios and their 95% CI:\n",
        "exp(coef(model.full))\n",
        "exp(confint(model.full))"
      ],
      "execution_count": 47,
      "outputs": [
        {
          "output_type": "display_data",
          "data": {
            "text/plain": [
              "(Intercept)         AGE       IVHX1       IVHX2     CENTRE2    THERAPY1 \n",
              "  0.1009390   1.0537612   0.4105039   0.5230805   3.2978539   1.5308752 \n",
              "   Genderf1 \n",
              "  0.6505462 "
            ],
            "text/latex": "\\begin{description*}\n\\item[(Intercept)] 0.100939024588123\n\\item[AGE] 1.0537611608953\n\\item[IVHX1] 0.410503925661051\n\\item[IVHX2] 0.523080510090466\n\\item[CENTRE2] 3.29785388759237\n\\item[THERAPY1] 1.53087518731589\n\\item[Genderf1] 0.650546179095231\n\\end{description*}\n",
            "text/markdown": "(Intercept)\n:   0.100939024588123AGE\n:   1.0537611608953IVHX1\n:   0.410503925661051IVHX2\n:   0.523080510090466CENTRE2\n:   3.29785388759237THERAPY1\n:   1.53087518731589Genderf1\n:   0.650546179095231\n\n",
            "text/html": [
              "<style>\n",
              ".dl-inline {width: auto; margin:0; padding: 0}\n",
              ".dl-inline>dt, .dl-inline>dd {float: none; width: auto; display: inline-block}\n",
              ".dl-inline>dt::after {content: \":\\0020\"; padding-right: .5ex}\n",
              ".dl-inline>dt:not(:first-of-type) {padding-left: .5ex}\n",
              "</style><dl class=dl-inline><dt>(Intercept)</dt><dd>0.100939024588123</dd><dt>AGE</dt><dd>1.0537611608953</dd><dt>IVHX1</dt><dd>0.410503925661051</dd><dt>IVHX2</dt><dd>0.523080510090466</dd><dt>CENTRE2</dt><dd>3.29785388759237</dd><dt>THERAPY1</dt><dd>1.53087518731589</dd><dt>Genderf1</dt><dd>0.650546179095231</dd></dl>\n"
            ]
          },
          "metadata": {}
        },
        {
          "output_type": "stream",
          "name": "stderr",
          "text": [
            "Waiting for profiling to be done...\n",
            "\n"
          ]
        },
        {
          "output_type": "display_data",
          "data": {
            "text/plain": [
              "            2.5 %      97.5 %   \n",
              "(Intercept) 0.02968247 0.3333451\n",
              "AGE         1.01676518 1.0928367\n",
              "IVHX1       0.24485372 0.6810689\n",
              "IVHX2       0.28427105 0.9402370\n",
              "CENTRE2     2.02867923 5.3949995\n",
              "THERAPY1    1.01581248 2.3175414\n",
              "Genderf1    0.40897151 1.0394868"
            ],
            "text/latex": "A matrix: 7 × 2 of type dbl\n\\begin{tabular}{r|ll}\n  & 2.5 \\% & 97.5 \\%\\\\\n\\hline\n\t(Intercept) & 0.02968247 & 0.3333451\\\\\n\tAGE & 1.01676518 & 1.0928367\\\\\n\tIVHX1 & 0.24485372 & 0.6810689\\\\\n\tIVHX2 & 0.28427105 & 0.9402370\\\\\n\tCENTRE2 & 2.02867923 & 5.3949995\\\\\n\tTHERAPY1 & 1.01581248 & 2.3175414\\\\\n\tGenderf1 & 0.40897151 & 1.0394868\\\\\n\\end{tabular}\n",
            "text/markdown": "\nA matrix: 7 × 2 of type dbl\n\n| <!--/--> | 2.5 % | 97.5 % |\n|---|---|---|\n| (Intercept) | 0.02968247 | 0.3333451 |\n| AGE | 1.01676518 | 1.0928367 |\n| IVHX1 | 0.24485372 | 0.6810689 |\n| IVHX2 | 0.28427105 | 0.9402370 |\n| CENTRE2 | 2.02867923 | 5.3949995 |\n| THERAPY1 | 1.01581248 | 2.3175414 |\n| Genderf1 | 0.40897151 | 1.0394868 |\n\n",
            "text/html": [
              "<table class=\"dataframe\">\n",
              "<caption>A matrix: 7 × 2 of type dbl</caption>\n",
              "<thead>\n",
              "\t<tr><th></th><th scope=col>2.5 %</th><th scope=col>97.5 %</th></tr>\n",
              "</thead>\n",
              "<tbody>\n",
              "\t<tr><th scope=row>(Intercept)</th><td>0.02968247</td><td>0.3333451</td></tr>\n",
              "\t<tr><th scope=row>AGE</th><td>1.01676518</td><td>1.0928367</td></tr>\n",
              "\t<tr><th scope=row>IVHX1</th><td>0.24485372</td><td>0.6810689</td></tr>\n",
              "\t<tr><th scope=row>IVHX2</th><td>0.28427105</td><td>0.9402370</td></tr>\n",
              "\t<tr><th scope=row>CENTRE2</th><td>2.02867923</td><td>5.3949995</td></tr>\n",
              "\t<tr><th scope=row>THERAPY1</th><td>1.01581248</td><td>2.3175414</td></tr>\n",
              "\t<tr><th scope=row>Genderf1</th><td>0.40897151</td><td>1.0394868</td></tr>\n",
              "</tbody>\n",
              "</table>\n"
            ]
          },
          "metadata": {}
        }
      ]
    },
    {
      "cell_type": "markdown",
      "metadata": {
        "id": "i4o8TqTuapeJ"
      },
      "source": [
        "**Effect of each predictor:**\n",
        "\n",
        "AGE OR = 1.054\n",
        "\n",
        "IVHX1 OR = 0.411, this indicates that current drug users are approximately 0.411 times as likely to have no conivctions after two years compared with non users.\n",
        "\n",
        "IVHX2 OR = 0.523, this indicates that ex drug users are approximately 0.523 times as likely to have no further convictions after two years compared with non users.\n",
        "\n",
        "CENTRE2 OR = 3.298, this indicates that criminals from the urban region are 3.298 times as likely to have no further convictions after two years compared with criminals from the metropolitan area.\n",
        "\n",
        "THERAPY1 OR = 1.531, this indicates that criminals that participated in the education programme are 1.531 times as likely to have no further convictions after two years compared with criminals that were given the standard treatment.\n",
        "\n",
        "GENDERF1 OR = 0.651, this indicates that males are 0.651 times as likely to have no further convictions after two years when compared to females. However, gender was found to not be a significant predictor in the regression model."
      ]
    },
    {
      "cell_type": "markdown",
      "metadata": {
        "id": "TuiV2Xnicu1y"
      },
      "source": [
        "## 5."
      ]
    },
    {
      "cell_type": "code",
      "metadata": {
        "id": "mmbNJ73ycxqS",
        "colab": {
          "base_uri": "https://localhost:8080/",
          "height": 52
        },
        "outputId": "021e1af0-11cd-4567-8578-70c7f5bbf93f"
      },
      "source": [
        "#Estimating probability of no further convictions for the 32 year old female, using values from output\n",
        "exp(-2.29324 + 0.05237*(32) - 0.89037*(1) - 0.64802*(0) + 1.19327*(2) + 0.42584*(1))\n",
        "3.68625117537077/(1 + 3.68625117537077) #Probability = Odds/(1 + Odds)"
      ],
      "execution_count": 48,
      "outputs": [
        {
          "output_type": "display_data",
          "data": {
            "text/plain": [
              "[1] 3.686251"
            ],
            "text/latex": "3.68625117537077",
            "text/markdown": "3.68625117537077",
            "text/html": [
              "3.68625117537077"
            ]
          },
          "metadata": {}
        },
        {
          "output_type": "display_data",
          "data": {
            "text/plain": [
              "[1] 0.7866098"
            ],
            "text/latex": "0.786609816124318",
            "text/markdown": "0.786609816124318",
            "text/html": [
              "0.786609816124318"
            ]
          },
          "metadata": {}
        }
      ]
    },
    {
      "cell_type": "markdown",
      "metadata": {
        "id": "uOBKkD0tfxTJ"
      },
      "source": [
        "Using the fitted model, the probability that the 32 year old female does not reoffend within two years of release from prison is approximately 0.787."
      ]
    },
    {
      "cell_type": "markdown",
      "metadata": {
        "id": "o2gVXVvqfGEf"
      },
      "source": [
        "## Question C"
      ]
    },
    {
      "cell_type": "markdown",
      "metadata": {
        "id": "B5QHi7VcfJQE"
      },
      "source": [
        "## 2."
      ]
    },
    {
      "cell_type": "code",
      "metadata": {
        "id": "d0HieGmvD-J5",
        "colab": {
          "base_uri": "https://localhost:8080/",
          "height": 286
        },
        "outputId": "c60f797b-713e-4387-cb65-af79a5f82c4c"
      },
      "source": [
        "##Entering the data, Control = Group A, Treatment = Group B\n",
        "Input = (\"\n",
        "group relapsetime status\n",
        "B 2 1\n",
        "B 6 1\n",
        "B 6 1\n",
        "B 6 0\n",
        "B 7 1\n",
        "B 9 0\n",
        "B 10 1\n",
        "B 10 0\n",
        "B 11 0\n",
        "B 13 1\n",
        "B 17 0\n",
        "B 18 1\n",
        "B 19 0\n",
        "B 20 0\n",
        "B 22 1\n",
        "B 24 1\n",
        "B 25 0\n",
        "B 32 0\n",
        "B 32 0\n",
        "B 34 0\n",
        "B 35 0\n",
        "B 36 0\n",
        "A 1 1\n",
        "A 2 1\n",
        "A 2 1\n",
        "A 3 1\n",
        "A 4 1\n",
        "A 4 1\n",
        "A 5 1 \n",
        "A 5 1\n",
        "A 8 1\n",
        "A 8 1\n",
        "A 10 1\n",
        "A 11 1\n",
        "A 11 0\n",
        "A 12 1\n",
        "A 14 1\n",
        "A 15 1\n",
        "A 16 0\n",
        "A 19 1\n",
        "A 24 1\n",
        "A 27 1\n",
        "A 29 0\n",
        "A 31 1\n",
        "A 36 0\n",
        " \n",
        "\")\n",
        "Data = read.table(textConnection(Input),header=TRUE) \n",
        "head(Data)"
      ],
      "execution_count": 49,
      "outputs": [
        {
          "output_type": "display_data",
          "data": {
            "text/plain": [
              "  group relapsetime status\n",
              "1 B     2           1     \n",
              "2 B     6           1     \n",
              "3 B     6           1     \n",
              "4 B     6           0     \n",
              "5 B     7           1     \n",
              "6 B     9           0     "
            ],
            "text/latex": "A data.frame: 6 × 3\n\\begin{tabular}{r|lll}\n  & group & relapsetime & status\\\\\n  & <chr> & <int> & <int>\\\\\n\\hline\n\t1 & B & 2 & 1\\\\\n\t2 & B & 6 & 1\\\\\n\t3 & B & 6 & 1\\\\\n\t4 & B & 6 & 0\\\\\n\t5 & B & 7 & 1\\\\\n\t6 & B & 9 & 0\\\\\n\\end{tabular}\n",
            "text/markdown": "\nA data.frame: 6 × 3\n\n| <!--/--> | group &lt;chr&gt; | relapsetime &lt;int&gt; | status &lt;int&gt; |\n|---|---|---|---|\n| 1 | B | 2 | 1 |\n| 2 | B | 6 | 1 |\n| 3 | B | 6 | 1 |\n| 4 | B | 6 | 0 |\n| 5 | B | 7 | 1 |\n| 6 | B | 9 | 0 |\n\n",
            "text/html": [
              "<table class=\"dataframe\">\n",
              "<caption>A data.frame: 6 × 3</caption>\n",
              "<thead>\n",
              "\t<tr><th></th><th scope=col>group</th><th scope=col>relapsetime</th><th scope=col>status</th></tr>\n",
              "\t<tr><th></th><th scope=col>&lt;chr&gt;</th><th scope=col>&lt;int&gt;</th><th scope=col>&lt;int&gt;</th></tr>\n",
              "</thead>\n",
              "<tbody>\n",
              "\t<tr><th scope=row>1</th><td>B</td><td>2</td><td>1</td></tr>\n",
              "\t<tr><th scope=row>2</th><td>B</td><td>6</td><td>1</td></tr>\n",
              "\t<tr><th scope=row>3</th><td>B</td><td>6</td><td>1</td></tr>\n",
              "\t<tr><th scope=row>4</th><td>B</td><td>6</td><td>0</td></tr>\n",
              "\t<tr><th scope=row>5</th><td>B</td><td>7</td><td>1</td></tr>\n",
              "\t<tr><th scope=row>6</th><td>B</td><td>9</td><td>0</td></tr>\n",
              "</tbody>\n",
              "</table>\n"
            ]
          },
          "metadata": {}
        }
      ]
    },
    {
      "cell_type": "code",
      "metadata": {
        "id": "YDQ8pT0EGJQI",
        "colab": {
          "base_uri": "https://localhost:8080/"
        },
        "outputId": "7786c283-179c-4154-c6db-46a591a3611d"
      },
      "source": [
        "install.packages(\"survival\") #Package needed for Kaplan-Meier estimator\n",
        "library(survival)"
      ],
      "execution_count": 50,
      "outputs": [
        {
          "output_type": "stream",
          "name": "stderr",
          "text": [
            "Installing package into ‘/usr/local/lib/R/site-library’\n",
            "(as ‘lib’ is unspecified)\n",
            "\n"
          ]
        }
      ]
    },
    {
      "cell_type": "code",
      "metadata": {
        "id": "TVwDKi_aGcPn"
      },
      "source": [
        "# Add survival object\n",
        "surv.object <- with(Data, Surv(relapsetime, status)) \n",
        "\n",
        "# Kaplan-Meier estimator\n",
        "kmall <- survfit(surv.object~1, data=Data, conf.type = \"plain\") "
      ],
      "execution_count": 51,
      "outputs": []
    },
    {
      "cell_type": "code",
      "metadata": {
        "id": "Rh5IlqTkTYTb",
        "colab": {
          "base_uri": "https://localhost:8080/",
          "height": 538
        },
        "outputId": "81d36757-470f-492b-d180-0b450be90c91"
      },
      "source": [
        "# Kaplan-Meier estimator\n",
        "kmrx <- survfit(surv.object~group,data=Data) \n",
        "summary(kmrx)"
      ],
      "execution_count": 52,
      "outputs": [
        {
          "output_type": "display_data",
          "data": {
            "text/plain": [
              "Call: survfit(formula = surv.object ~ group, data = Data)\n",
              "\n",
              "                group=A \n",
              " time n.risk n.event survival std.err lower 95% CI upper 95% CI\n",
              "    1     23       1   0.9565  0.0425       0.8767        1.000\n",
              "    2     22       2   0.8696  0.0702       0.7423        1.000\n",
              "    3     20       1   0.8261  0.0790       0.6848        0.996\n",
              "    4     19       2   0.7391  0.0916       0.5798        0.942\n",
              "    5     17       2   0.6522  0.0993       0.4839        0.879\n",
              "    8     15       2   0.5652  0.1034       0.3950        0.809\n",
              "   10     13       1   0.5217  0.1042       0.3528        0.772\n",
              "   11     12       1   0.4783  0.1042       0.3121        0.733\n",
              "   12     10       1   0.4304  0.1041       0.2679        0.692\n",
              "   14      9       1   0.3826  0.1030       0.2258        0.648\n",
              "   15      8       1   0.3348  0.1006       0.1858        0.603\n",
              "   19      6       1   0.2790  0.0981       0.1401        0.556\n",
              "   24      5       1   0.2232  0.0930       0.0986        0.505\n",
              "   27      4       1   0.1674  0.0849       0.0620        0.452\n",
              "   31      2       1   0.0837  0.0728       0.0152        0.461\n",
              "\n",
              "                group=B \n",
              " time n.risk n.event survival std.err lower 95% CI upper 95% CI\n",
              "    2     22       1    0.955  0.0444        0.871        1.000\n",
              "    6     21       2    0.864  0.0732        0.732        1.000\n",
              "    7     18       1    0.816  0.0834        0.668        0.997\n",
              "   10     16       1    0.765  0.0924        0.603        0.969\n",
              "   13     13       1    0.706  0.1023        0.531        0.938\n",
              "   18     11       1    0.642  0.1114        0.457        0.902\n",
              "   22      8       1    0.561  0.1230        0.366        0.863\n",
              "   24      7       1    0.481  0.1289        0.285        0.814\n"
            ]
          },
          "metadata": {}
        }
      ]
    },
    {
      "cell_type": "markdown",
      "metadata": {
        "id": "wl--p7jaXVT9"
      },
      "source": [
        "For the control Group, the estimated probability of survival beyond 12 weeks is approximately 0.430.\n",
        "\n",
        "The 95% CI is (0.268, 0.692), which indicates that the probability of survival beyond 12 weeks is between 0.268 and 0.692."
      ]
    },
    {
      "cell_type": "code",
      "metadata": {
        "id": "T5CcYHY_UThd",
        "colab": {
          "base_uri": "https://localhost:8080/",
          "height": 437
        },
        "outputId": "09be5cb8-7fb1-44f2-f372-d1190a16c916"
      },
      "source": [
        "## Plot of the Kaplan Meier estimate\n",
        "plot(kmrx, xlab=\"Time (weeks)\",ylab=\"Survival Probability\", yscale=100, col=c(\"red\",\"blue\"), main=\"Survival Distributions by Treatment Groups\",\n",
        "conf.int = FALSE, mark.time = TRUE)\n",
        "legend(\"bottomleft\", title=\"Group\", c(\"A\", \"B\"), fill=c(\"red\", \"blue\")) "
      ],
      "execution_count": 53,
      "outputs": [
        {
          "output_type": "display_data",
          "data": {
            "image/png": "[encoded data removed]",
            "text/plain": [
              "Plot with title “Survival Distributions by Treatment Groups”"
            ]
          },
          "metadata": {
            "image/png": {
              "width": 420,
              "height": 420
            }
          }
        }
      ]
    },
    {
      "cell_type": "markdown",
      "metadata": {
        "id": "SeudPgNQgYDp"
      },
      "source": [
        "From this plot, it appears that the control group A has lower survival probability, since the survival curve is consistently lower than group B. This indicates that there is a higher chance of relapse for patients in the control group compared to the test group."
      ]
    },
    {
      "cell_type": "code",
      "source": [
        "# Fitting Cox proportional hazards model\n",
        "MMod <- coxph(surv.object ~ group + relapsetime, data=Data)\n",
        "MMod"
      ],
      "metadata": {
        "colab": {
          "base_uri": "https://localhost:8080/",
          "height": 208
        },
        "id": "FpuAqgp-IrJV",
        "outputId": "501561da-9dba-4452-e6b6-57bfe3457357"
      },
      "execution_count": 54,
      "outputs": [
        {
          "output_type": "stream",
          "name": "stderr",
          "text": [
            "Warning message in coxph.fit(X, Y, istrat, offset, init, control, weights = weights, :\n",
            "“Ran out of iterations and did not converge”\n"
          ]
        },
        {
          "output_type": "display_data",
          "data": {
            "text/plain": [
              "Call:\n",
              "coxph(formula = surv.object ~ group + relapsetime, data = Data)\n",
              "\n",
              "                  coef  exp(coef)   se(coef)      z     p\n",
              "groupB      -6.380e-01  5.284e-01  7.399e-01 -0.862 0.389\n",
              "relapsetime -1.686e+01  4.777e-08  8.241e+02 -0.020 0.984\n",
              "\n",
              "Likelihood ratio test=161.6  on 2 df, p=< 2.2e-16\n",
              "n= 45, number of events= 28 "
            ]
          },
          "metadata": {}
        }
      ]
    },
    {
      "cell_type": "code",
      "source": [
        "# Computing the fitting function\n",
        "hsfit<-survfit(MMod)"
      ],
      "metadata": {
        "id": "LYJckKRWJRZx"
      },
      "execution_count": 55,
      "outputs": []
    },
    {
      "cell_type": "code",
      "source": [
        "install.packages(\"survminer\") #Package needed for plot of cumulative hazard functions\n",
        "library(survminer)"
      ],
      "metadata": {
        "colab": {
          "base_uri": "https://localhost:8080/"
        },
        "id": "HMz8s90FJxMm",
        "outputId": "57595c4a-86c0-466c-d551-45c8d043dd70"
      },
      "execution_count": 56,
      "outputs": [
        {
          "output_type": "stream",
          "name": "stderr",
          "text": [
            "Installing package into ‘/usr/local/lib/R/site-library’\n",
            "(as ‘lib’ is unspecified)\n",
            "\n"
          ]
        }
      ]
    },
    {
      "cell_type": "code",
      "source": [
        "## Plot of the cumulative hazard functions\n",
        "ggsurvplot(hsfit,fun=\"cumhaz\",data=Data)"
      ],
      "metadata": {
        "colab": {
          "base_uri": "https://localhost:8080/",
          "height": 437
        },
        "id": "IilFAHfjJa4y",
        "outputId": "db586d79-84c7-428b-ea1f-903660ce2c90"
      },
      "execution_count": 57,
      "outputs": [
        {
          "output_type": "display_data",
          "data": {
            "image/png": "[encoded data removed]",
            "text/plain": [
              "plot without title"
            ]
          },
          "metadata": {
            "image/png": {
              "width": 420,
              "height": 420
            }
          }
        }
      ]
    },
    {
      "cell_type": "markdown",
      "metadata": {
        "id": "AfAEZ_vMFpNW"
      },
      "source": [
        "## 3."
      ]
    },
    {
      "cell_type": "code",
      "metadata": {
        "colab": {
          "base_uri": "https://localhost:8080/",
          "height": 156
        },
        "id": "meV_UvhiFrRG",
        "outputId": "9092bfb4-e508-4ec8-e49f-fca0ad57aaf1"
      },
      "source": [
        "# Logrank test\n",
        "survdiff(surv.object ~ group,data=Data)"
      ],
      "execution_count": 58,
      "outputs": [
        {
          "output_type": "display_data",
          "data": {
            "text/plain": [
              "Call:\n",
              "survdiff(formula = surv.object ~ group, data = Data)\n",
              "\n",
              "         N Observed Expected (O-E)^2/E (O-E)^2/V\n",
              "group=A 23       19     12.3      3.68      6.77\n",
              "group=B 22        9     15.7      2.88      6.77\n",
              "\n",
              " Chisq= 6.8  on 1 degrees of freedom, p= 0.009 "
            ]
          },
          "metadata": {}
        }
      ]
    },
    {
      "cell_type": "markdown",
      "metadata": {
        "id": "qNE2dT93H9U0"
      },
      "source": [
        "From the logrank test, the p value is approximately 0.009, which suggests there is evidence of a significant difference in the survival functions. \n",
        "\n",
        "This indicates that group B has a higher survival probability compared to group A. We can conclude that there is a lower chance of relapse for patients in the control group B compared to the test group A."
      ]
    },
    {
      "cell_type": "markdown",
      "metadata": {
        "id": "FCr29valOe--"
      },
      "source": [
        "## 4."
      ]
    },
    {
      "cell_type": "code",
      "metadata": {
        "colab": {
          "base_uri": "https://localhost:8080/",
          "height": 156
        },
        "id": "_hEY452_HXTA",
        "outputId": "bf70aaad-b2a2-49aa-de08-04f7ea3ea074"
      },
      "source": [
        "#Fitting Cox regression model, with the treatment as a single predictor\n",
        "Mod <- coxph(surv.object ~ group,data=Data)\n",
        "Mod"
      ],
      "execution_count": 59,
      "outputs": [
        {
          "output_type": "display_data",
          "data": {
            "text/plain": [
              "Call:\n",
              "coxph(formula = surv.object ~ group, data = Data)\n",
              "\n",
              "          coef exp(coef) se(coef)      z      p\n",
              "groupB -1.0125    0.3633   0.4065 -2.491 0.0128\n",
              "\n",
              "Likelihood ratio test=6.73  on 1 df, p=0.009493\n",
              "n= 45, number of events= 28 "
            ]
          },
          "metadata": {}
        }
      ]
    },
    {
      "cell_type": "code",
      "metadata": {
        "colab": {
          "base_uri": "https://localhost:8080/",
          "height": 312
        },
        "id": "wIxE5-odLBHf",
        "outputId": "34cd7d9e-2771-4761-c4f7-2ed78bc3ad65"
      },
      "source": [
        "#Obtaining Hazard Ratio and CI's\n",
        "summary(Mod)"
      ],
      "execution_count": 60,
      "outputs": [
        {
          "output_type": "display_data",
          "data": {
            "text/plain": [
              "Call:\n",
              "coxph(formula = surv.object ~ group, data = Data)\n",
              "\n",
              "  n= 45, number of events= 28 \n",
              "\n",
              "          coef exp(coef) se(coef)      z Pr(>|z|)  \n",
              "groupB -1.0125    0.3633   0.4065 -2.491   0.0128 *\n",
              "---\n",
              "Signif. codes:  0 ‘***’ 0.001 ‘**’ 0.01 ‘*’ 0.05 ‘.’ 0.1 ‘ ’ 1\n",
              "\n",
              "       exp(coef) exp(-coef) lower .95 upper .95\n",
              "groupB    0.3633      2.752    0.1638     0.806\n",
              "\n",
              "Concordance= 0.629  (se = 0.048 )\n",
              "Likelihood ratio test= 6.73  on 1 df,   p=0.009\n",
              "Wald test            = 6.2  on 1 df,   p=0.01\n",
              "Score (logrank) test = 6.74  on 1 df,   p=0.009\n"
            ]
          },
          "metadata": {}
        }
      ]
    },
    {
      "cell_type": "markdown",
      "metadata": {
        "id": "wOtDHZ9_NIhH"
      },
      "source": [
        "The p value of approximately 0.013 indicates significance.\n",
        "The hazard ratio of 0.363 is less than 1.0, which shows that group B has higher survival rate compared to group A patients.\n",
        "\n",
        "The hazard ratio 95% CI is (0.164, 0.806), which also shows significance, since it does not include 1.0."
      ]
    }
  ]
}